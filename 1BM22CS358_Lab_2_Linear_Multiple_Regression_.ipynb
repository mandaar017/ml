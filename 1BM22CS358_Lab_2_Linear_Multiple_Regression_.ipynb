{
  "nbformat": 4,
  "nbformat_minor": 0,
  "metadata": {
    "colab": {
      "provenance": []
    },
    "kernelspec": {
      "name": "python3",
      "display_name": "Python 3"
    },
    "language_info": {
      "name": "python"
    }
  },
  "cells": [
    {
      "cell_type": "code",
      "execution_count": 1,
      "metadata": {
        "colab": {
          "base_uri": "https://localhost:8080/",
          "height": 556
        },
        "id": "A4ic9a_PsMEE",
        "outputId": "347fd66a-a0a0-4005-90fc-74946c7bd6cd"
      },
      "outputs": [
        {
          "output_type": "stream",
          "name": "stderr",
          "text": [
            "/usr/local/lib/python3.11/dist-packages/sklearn/utils/validation.py:2739: UserWarning: X does not have valid feature names, but LinearRegression was fitted with feature names\n",
            "  warnings.warn(\n",
            "/usr/local/lib/python3.11/dist-packages/sklearn/utils/validation.py:2739: UserWarning: X does not have valid feature names, but LinearRegression was fitted with feature names\n",
            "  warnings.warn(\n"
          ]
        },
        {
          "output_type": "execute_result",
          "data": {
            "text/plain": [
              "array([859554.79452055])"
            ]
          },
          "metadata": {},
          "execution_count": 1
        },
        {
          "output_type": "display_data",
          "data": {
            "text/plain": [
              "<Figure size 640x480 with 1 Axes>"
            ],
            "image/png": "[encoded data removed]"
          },
          "metadata": {}
        }
      ],
      "source": [
        "import pandas as pd\n",
        "import numpy as np\n",
        "from sklearn import linear_model\n",
        "import matplotlib.pyplot as plt\n",
        "\n",
        "df = pd.read_csv('housing_area_price.csv')\n",
        "df\n",
        "\n",
        "# Commented out IPython magic to ensure Python compatibility.\n",
        "# %matplotlib inline\n",
        "plt.xlabel('area')\n",
        "plt.ylabel('price')\n",
        "plt.scatter(df.area,df.price,color='red',marker='+')\n",
        "\n",
        "new_df = df.drop('price',axis='columns')\n",
        "new_df\n",
        "\n",
        "price = df.price\n",
        "price\n",
        "\n",
        "# Create linear regression object\n",
        "reg = linear_model.LinearRegression()\n",
        "reg.fit(new_df,price)\n",
        "\n",
        "\"\"\"(1) Predict price of a home with area = 3300 sqr ft\"\"\"\n",
        "\n",
        "reg.predict([[3300]])\n",
        "\n",
        "reg.coef_\n",
        "\n",
        "reg.intercept_\n",
        "\n",
        "\"\"\"Y = m * X + b (m is coefficient and b is intercept)\"\"\"\n",
        "\n",
        "3300*135.78767123 + 180616.43835616432\n",
        "\n",
        "\"\"\"(1) Predict price of a home with area = 5000 sqr ft\"\"\"\n",
        "\n",
        "reg.predict([[5000]])"
      ]
    },
    {
      "cell_type": "code",
      "source": [
        "import pandas as pd\n",
        "import numpy as np\n",
        "from sklearn import linear_model\n",
        "\n",
        "df = pd.read_csv('homeprices_Multiple_LR.csv')\n",
        "df\n",
        "\n",
        "\"\"\"Data Preprocessing: Fill NA values with median value of a column\"\"\"\n",
        "\n",
        "df.bedrooms.median()\n",
        "\n",
        "df.bedrooms = df.bedrooms.fillna(df.bedrooms.median())\n",
        "df\n",
        "\n",
        "reg = linear_model.LinearRegression()\n",
        "reg.fit(df.drop('price',axis='columns'),df.price)\n",
        "\n",
        "reg.coef_\n",
        "\n",
        "reg.intercept_\n",
        "\n",
        "\"\"\"Find price of home with 3000 sqr ft area, 3 bedrooms, 40 year old\"\"\"\n",
        "\n",
        "print(reg.predict([[3000, 3, 40]]))\n",
        "\n",
        "112.06244194*3000 + 23388.88007794*3 + -3231.71790863*40 + 221323.00186540384"
      ],
      "metadata": {
        "colab": {
          "base_uri": "https://localhost:8080/"
        },
        "id": "iTRNaP8-s6ys",
        "outputId": "bbedd4b2-0fce-4f1f-8551-2700c889b8e4"
      },
      "execution_count": 18,
      "outputs": [
        {
          "output_type": "stream",
          "name": "stdout",
          "text": [
            "[498408.25158031]\n"
          ]
        },
        {
          "output_type": "stream",
          "name": "stderr",
          "text": [
            "/usr/local/lib/python3.11/dist-packages/sklearn/utils/validation.py:2739: UserWarning: X does not have valid feature names, but LinearRegression was fitted with feature names\n",
            "  warnings.warn(\n"
          ]
        },
        {
          "output_type": "execute_result",
          "data": {
            "text/plain": [
              "498408.25157402386"
            ]
          },
          "metadata": {},
          "execution_count": 18
        }
      ]
    },
    {
      "cell_type": "code",
      "source": [
        "##CANADA PER CAPITA\n",
        "\n",
        "import pandas as pd\n",
        "import numpy as np\n",
        "from sklearn import linear_model\n",
        "from matplotlib import pyplot as plt\n",
        "\n",
        "df = pd.read_csv('canada_per_capita_income1.csv')\n",
        "df.income.median()\n",
        "df.income = df.income.fillna(df.income.median())\n",
        "df\n",
        "\n",
        "plt.xlabel('year')\n",
        "plt.ylabel('income')\n",
        "plt.scatter(df.year,df.income,color='red',marker='+')\n",
        "\n",
        "reg = linear_model.LinearRegression()\n",
        "reg.fit(df[['year']],df.income)\n",
        "\n",
        "print(reg.predict([[2020]]))\n"
      ],
      "metadata": {
        "colab": {
          "base_uri": "https://localhost:8080/",
          "height": 521
        },
        "id": "DGsiUDoMtYLs",
        "outputId": "478d38e3-6e51-4204-9b01-1ea47e00a04c"
      },
      "execution_count": 35,
      "outputs": [
        {
          "output_type": "stream",
          "name": "stdout",
          "text": [
            "[41288.69409442]\n"
          ]
        },
        {
          "output_type": "stream",
          "name": "stderr",
          "text": [
            "/usr/local/lib/python3.11/dist-packages/sklearn/utils/validation.py:2739: UserWarning: X does not have valid feature names, but LinearRegression was fitted with feature names\n",
            "  warnings.warn(\n"
          ]
        },
        {
          "output_type": "display_data",
          "data": {
            "text/plain": [
              "<Figure size 640x480 with 1 Axes>"
            ],
            "image/png": "[encoded data removed]"
          },
          "metadata": {}
        }
      ]
    },
    {
      "cell_type": "code",
      "source": [
        "#SALARY\n",
        "\n",
        "import pandas as pd\n",
        "import numpy as np\n",
        "from sklearn import linear_model\n",
        "import matplotlib.pyplot as plt\n",
        "\n",
        "\n",
        "df = pd.read_csv('salary.csv')\n",
        "df.Salary = df.Salary.fillna(df.Salary.median())\n",
        "df.YearsExperience=df.YearsExperience.fillna(df.YearsExperience.median())\n",
        "\n",
        "plt.xlabel('YearsExperience')\n",
        "plt.ylabel('Salary')\n",
        "plt.scatter(df.YearsExperience,df.Salary,color='red',marker='+')\n",
        "\n",
        "reg = linear_model.LinearRegression()\n",
        "reg.fit(df[['YearsExperience']], df.Salary)\n",
        "\n",
        "\n",
        "print(reg.predict([[12]]))\n"
      ],
      "metadata": {
        "colab": {
          "base_uri": "https://localhost:8080/",
          "height": 521
        },
        "id": "WX0GT5X4vkvb",
        "outputId": "88f1a1cd-730e-49c2-f347-68db47b805e6"
      },
      "execution_count": 36,
      "outputs": [
        {
          "output_type": "stream",
          "name": "stdout",
          "text": [
            "[139574.04095966]\n"
          ]
        },
        {
          "output_type": "stream",
          "name": "stderr",
          "text": [
            "/usr/local/lib/python3.11/dist-packages/sklearn/utils/validation.py:2739: UserWarning: X does not have valid feature names, but LinearRegression was fitted with feature names\n",
            "  warnings.warn(\n"
          ]
        },
        {
          "output_type": "display_data",
          "data": {
            "text/plain": [
              "<Figure size 640x480 with 1 Axes>"
            ],
            "image/png": "[encoded data removed]"
          },
          "metadata": {}
        }
      ]
    },
    {
      "cell_type": "code",
      "source": [
        "#multiple regression\n",
        "\n",
        "import pandas as pd\n",
        "import numpy as np\n",
        "from sklearn import linear_model\n",
        "from matplotlib import pyplot as plt\n",
        "\n",
        "df = pd.read_csv('hiring.csv')\n",
        "\n",
        "df['test_score(out of 10)'] = df['test_score(out of 10)'].fillna(df['test_score(out of 10)'].median())\n",
        "\n",
        "df['experience'] = df['experience'].fillna('zero')\n",
        "\n",
        "def convert_to_int(word):\n",
        "    word_dict = {'one':1, 'two':2, 'three':3, 'four':4, 'five':5, 'six':6, 'seven':7, 'eight':8,\n",
        "                'nine':9, 'ten':10, 'eleven':11, 'twelve':12, 'zero':0, 0:0}\n",
        "    return word_dict[word]\n",
        "\n",
        "df['experience'] = df['experience'].apply(lambda x : convert_to_int(x))\n",
        "\n",
        "df['experience']=df['experience'].replace(0,df['experience'].median())\n",
        "\n",
        "\n",
        "reg = linear_model.LinearRegression()\n",
        "reg.fit(df[['experience','test_score(out of 10)','interview_score(out of 10)']],df['salary($)'])\n",
        "\n",
        "print(reg.predict([[2,9,6]]))\n",
        "print(reg.predict([[12,10,10]]))\n"
      ],
      "metadata": {
        "colab": {
          "base_uri": "https://localhost:8080/"
        },
        "id": "EIENyToUwr-7",
        "outputId": "d5fdf190-ed6e-4264-8af7-d01a8e427cec"
      },
      "execution_count": 41,
      "outputs": [
        {
          "output_type": "stream",
          "name": "stdout",
          "text": [
            "[46341.80249281]\n",
            "[94792.77433975]\n"
          ]
        },
        {
          "output_type": "stream",
          "name": "stderr",
          "text": [
            "/usr/local/lib/python3.11/dist-packages/sklearn/utils/validation.py:2739: UserWarning: X does not have valid feature names, but LinearRegression was fitted with feature names\n",
            "  warnings.warn(\n",
            "/usr/local/lib/python3.11/dist-packages/sklearn/utils/validation.py:2739: UserWarning: X does not have valid feature names, but LinearRegression was fitted with feature names\n",
            "  warnings.warn(\n"
          ]
        }
      ]
    },
    {
      "cell_type": "code",
      "source": [
        "\n",
        "import pandas as pd\n",
        "from sklearn import linear_model\n",
        "\n",
        "\n",
        "df = pd.read_csv('1000_Companies.csv')\n",
        "\n",
        "df['R&D Spend'].replace(0,df['R&D Spend'].median(),inplace=True)\n",
        "df['Administration'].replace(0,df['Administration'].median(),inplace=True)\n",
        "df['Marketing Spend'].replace(0,df['Marketing Spend'].median(),inplace=True)\n",
        "\n",
        "\n",
        "X = df[['R&D Spend', 'Administration', 'Marketing Spend', 'State']]\n",
        "y = df['Profit']\n",
        "\n",
        "# convert 'State' column to numerical using one-hot encoding\n",
        "X = pd.get_dummies(X, columns=['State'], drop_first=True)\n",
        "\n",
        "\n",
        "\n",
        "# create and train\n",
        "reg = linear_model.LinearRegression()\n",
        "reg.fit(X, y)\n",
        "\n",
        "\n",
        "new_data = pd.DataFrame({\n",
        "    'R&D Spend': [91694.48],\n",
        "    'Administration': [515841.3],\n",
        "    'Marketing Spend': [11931.24],\n",
        "    'State_Florida': [1],  # Florida is represented by 1\n",
        "    'State_New York': [0],\n",
        "})\n",
        "\n",
        "\n",
        "predicted_profit = reg.predict(new_data)\n",
        "print(predicted_profit)\n"
      ],
      "metadata": {
        "colab": {
          "base_uri": "https://localhost:8080/"
        },
        "id": "n7w0_-rD0q-C",
        "outputId": "dae7e74a-b0c0-4e88-da21-f9f49bc637fe"
      },
      "execution_count": 45,
      "outputs": [
        {
          "output_type": "stream",
          "name": "stdout",
          "text": [
            "[214985.23565299]\n"
          ]
        },
        {
          "output_type": "stream",
          "name": "stderr",
          "text": [
            "<ipython-input-45-e6f12a7adf25>:7: FutureWarning: A value is trying to be set on a copy of a DataFrame or Series through chained assignment using an inplace method.\n",
            "The behavior will change in pandas 3.0. This inplace method will never work because the intermediate object on which we are setting values always behaves as a copy.\n",
            "\n",
            "For example, when doing 'df[col].method(value, inplace=True)', try using 'df.method({col: value}, inplace=True)' or df[col] = df[col].method(value) instead, to perform the operation inplace on the original object.\n",
            "\n",
            "\n",
            "  df['R&D Spend'].replace(0,df['R&D Spend'].median(),inplace=True)\n",
            "<ipython-input-45-e6f12a7adf25>:8: FutureWarning: A value is trying to be set on a copy of a DataFrame or Series through chained assignment using an inplace method.\n",
            "The behavior will change in pandas 3.0. This inplace method will never work because the intermediate object on which we are setting values always behaves as a copy.\n",
            "\n",
            "For example, when doing 'df[col].method(value, inplace=True)', try using 'df.method({col: value}, inplace=True)' or df[col] = df[col].method(value) instead, to perform the operation inplace on the original object.\n",
            "\n",
            "\n",
            "  df['Administration'].replace(0,df['Administration'].median(),inplace=True)\n",
            "<ipython-input-45-e6f12a7adf25>:9: FutureWarning: A value is trying to be set on a copy of a DataFrame or Series through chained assignment using an inplace method.\n",
            "The behavior will change in pandas 3.0. This inplace method will never work because the intermediate object on which we are setting values always behaves as a copy.\n",
            "\n",
            "For example, when doing 'df[col].method(value, inplace=True)', try using 'df.method({col: value}, inplace=True)' or df[col] = df[col].method(value) instead, to perform the operation inplace on the original object.\n",
            "\n",
            "\n",
            "  df['Marketing Spend'].replace(0,df['Marketing Spend'].median(),inplace=True)\n"
          ]
        }
      ]
    }
  ]
}
